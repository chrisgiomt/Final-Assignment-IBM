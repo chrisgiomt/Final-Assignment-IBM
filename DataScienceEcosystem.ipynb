{
 "cells": [
  {
   "cell_type": "markdown",
   "id": "1f41103e-cc7d-4a99-9701-ef1952cdf4e6",
   "metadata": {},
   "source": [
    "# Data Science Tools and Ecosystem"
   ]
  },
  {
   "cell_type": "markdown",
   "id": "0e263dc2-61cb-4929-939d-9a67f4df3bb2",
   "metadata": {},
   "source": [
    "In this notebook, Data Science Tools and Ecosystem are summarized."
   ]
  },
  {
   "cell_type": "markdown",
   "id": "79e8301d-1dcc-4006-a2b5-d7799fbb432d",
   "metadata": {},
   "source": [
    "**Objectives:** \n",
    "- List some popular languages Data Scientist use\n",
    "- Mention some of the commonly used libraries used by Data Scientist\n",
    "- Did some arithmetic on a markdown cell"
   ]
  },
  {
   "cell_type": "markdown",
   "id": "38de9bf1-223f-453a-a072-6b7e80ca73d5",
   "metadata": {},
   "source": [
    "Some of the popular languages that Data Scientist use are:\n",
    "\n",
    "1. Python\n",
    "2. R\n",
    "3. Scala"
   ]
  },
  {
   "cell_type": "markdown",
   "id": "623420ac-8557-4622-a410-760321067ad8",
   "metadata": {},
   "source": [
    "Some of the commonly used libraries used by Data Scientist include:\n",
    "\n",
    "1. Numpy\n",
    "2. Pandas\n",
    "3. tensorflow\n",
    "4. Scikit-learn\n",
    "5. matplotlib\n"
   ]
  },
  {
   "cell_type": "markdown",
   "id": "61c6e144-a6d4-4514-b415-c3f5c173c129",
   "metadata": {},
   "source": [
    "| Data Science Tools |\n",
    "|--------------------|\n",
    "| Jupyterlabs        |\n",
    "| vscode | \n",
    "| pycharm |"
   ]
  },
  {
   "cell_type": "markdown",
   "id": "9dabb9a4-f188-469d-9f87-7f079158e808",
   "metadata": {},
   "source": [
    "### Below are a few examples of evaluating arithmetic expressions in Python\n",
    "9 + 10\n",
    "\n",
    "42 / 7\n",
    "\n",
    "10 * 3"
   ]
  },
  {
   "cell_type": "code",
   "execution_count": 1,
   "id": "40655275-1736-41e0-a66a-82601b8964a7",
   "metadata": {
    "tags": []
   },
   "outputs": [
    {
     "data": {
      "text/plain": [
       "17"
      ]
     },
     "execution_count": 1,
     "metadata": {},
     "output_type": "execute_result"
    }
   ],
   "source": [
    "# Exercise 7: This is a simple arithmetic expression to multiply then add integers\n",
    "(3*4)+5"
   ]
  },
  {
   "cell_type": "code",
   "execution_count": 2,
   "id": "0112222b-52cc-4009-a451-43bd7c68741f",
   "metadata": {
    "tags": []
   },
   "outputs": [
    {
     "data": {
      "text/plain": [
       "3.3333333333333335"
      ]
     },
     "execution_count": 2,
     "metadata": {},
     "output_type": "execute_result"
    }
   ],
   "source": [
    "# This will convert 200 minutes to hours by dividing by 60\n",
    "200/60 "
   ]
  },
  {
   "cell_type": "markdown",
   "id": "1e3f0bf5-b3cc-4119-a555-5a2d6ba59792",
   "metadata": {},
   "source": [
    "## Author: \n",
    "Christopher Meza\n"
   ]
  }
 ],
 "metadata": {
  "kernelspec": {
   "display_name": "Python",
   "language": "python",
   "name": "conda-env-python-py"
  },
  "language_info": {
   "codemirror_mode": {
    "name": "ipython",
    "version": 3
   },
   "file_extension": ".py",
   "mimetype": "text/x-python",
   "name": "python",
   "nbconvert_exporter": "python",
   "pygments_lexer": "ipython3",
   "version": "3.7.12"
  }
 },
 "nbformat": 4,
 "nbformat_minor": 5
}
